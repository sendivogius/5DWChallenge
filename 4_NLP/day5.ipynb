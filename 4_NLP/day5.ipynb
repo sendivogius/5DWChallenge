{
 "cells": [
  {
   "cell_type": "code",
   "execution_count": 1,
   "metadata": {},
   "outputs": [],
   "source": [
    "import pandas as pd\n",
    "import operator\n",
    "from gensim.models.phrases import Phrases, Phraser\n",
    "from gensim.models import Doc2Vec\n",
    "from gensim.models.doc2vec import TaggedDocument\n",
    "from gensim.utils import simple_preprocess"
   ]
  },
  {
   "cell_type": "code",
   "execution_count": 2,
   "metadata": {},
   "outputs": [
    {
     "data": {
      "text/plain": [
       "(36109, 8)"
      ]
     },
     "execution_count": 2,
     "metadata": {},
     "output_type": "execute_result"
    }
   ],
   "source": [
    "df = pd.read_csv('data/job_ofer.csv')\n",
    "df.shape"
   ]
  },
  {
   "cell_type": "markdown",
   "metadata": {},
   "source": [
    "## Basic model"
   ]
  },
  {
   "cell_type": "code",
   "execution_count": 3,
   "metadata": {},
   "outputs": [],
   "source": [
    "title_corpus = df.title.map(simple_preprocess)"
   ]
  },
  {
   "cell_type": "code",
   "execution_count": 4,
   "metadata": {},
   "outputs": [],
   "source": [
    "def make_model(corpus, **kwargs):\n",
    "    corpus_tagged = [TaggedDocument(sent, [i]) for i, sent in enumerate(corpus)]\n",
    "    model = Doc2Vec(**kwargs)\n",
    "    model.build_vocab(corpus_tagged)\n",
    "    model.train(corpus_tagged, total_examples=model.corpus_count, epochs= 5)\n",
    "    return(model)"
   ]
  },
  {
   "cell_type": "code",
   "execution_count": 5,
   "metadata": {},
   "outputs": [],
   "source": [
    "title_model = make_model(title_corpus, vector_size = 300, window_size = 5, min_count = 1)"
   ]
  },
  {
   "cell_type": "code",
   "execution_count": 6,
   "metadata": {},
   "outputs": [],
   "source": [
    "def print_with_similar(df, model, i):\n",
    "    ms = model.docvecs.most_similar(i)\n",
    "    idx = [i] + [ix for ix, _ in ms]\n",
    "    print(df.loc[idx, 'title'])"
   ]
  },
  {
   "cell_type": "code",
   "execution_count": 7,
   "metadata": {},
   "outputs": [
    {
     "name": "stdout",
     "output_type": "stream",
     "text": [
      "0                               Machine Learning Engineer\n",
      "27698                       Machine Operator - IL06509141\n",
      "207                    Machine Learning Research Position\n",
      "317                           Machine Learning Researcher\n",
      "318                    Machine Learning Senior Researcher\n",
      "31954                                    Machine Operator\n",
      "33091                     Machine Learning Cloud Engineer\n",
      "320          Data Science and Machine Learning Researcher\n",
      "209                    Machine Learning Research Position\n",
      "4910     Seasonal 2nd Shift Machine Operator - Poland, ME\n",
      "31660                                    Machine Operator\n",
      "Name: title, dtype: object\n"
     ]
    }
   ],
   "source": [
    "print_with_similar(df, title_model, 0)"
   ]
  },
  {
   "cell_type": "markdown",
   "metadata": {},
   "source": [
    "## Model with phrases"
   ]
  },
  {
   "cell_type": "code",
   "execution_count": 8,
   "metadata": {},
   "outputs": [],
   "source": [
    "title_bigram = Phraser(Phrases(title_corpus, min_count=1, threshold=1))"
   ]
  },
  {
   "cell_type": "code",
   "execution_count": 9,
   "metadata": {},
   "outputs": [],
   "source": [
    "def prepare_corpus(corpus, bigram):\n",
    "    for sent in corpus:\n",
    "        yield  bigram[sent] + sent"
   ]
  },
  {
   "cell_type": "code",
   "execution_count": 10,
   "metadata": {},
   "outputs": [],
   "source": [
    "ext_corpus_title = list(prepare_corpus(title_corpus, title_bigram))"
   ]
  },
  {
   "cell_type": "code",
   "execution_count": 11,
   "metadata": {},
   "outputs": [],
   "source": [
    "title_ext_model = make_model(ext_corpus_title, vector_size = 300, window_size = 5, min_count = 1)"
   ]
  },
  {
   "cell_type": "code",
   "execution_count": 12,
   "metadata": {
    "scrolled": true
   },
   "outputs": [
    {
     "name": "stdout",
     "output_type": "stream",
     "text": [
      "0                                Machine Learning Engineer\n",
      "7139     Senior Machine Learning Engineer (Relocate to ...\n",
      "7243     Senior Machine Learning Engineer (Relocate to ...\n",
      "209                     Machine Learning Research Position\n",
      "234                                       Researcher, U.S.\n",
      "7452     Senior Machine Learning Engineer (Relocate to ...\n",
      "10128                 Supplier Engineer, China Integration\n",
      "25426                     Senior Machine Learning Engineer\n",
      "35431                     Copy Editor => Relocate to China\n",
      "13654    Beijing/Shanghai/Shenzhen UP TO 30k/M => Reloc...\n",
      "31929            Editorial Internship => Relocate to China\n",
      "Name: title, dtype: object\n"
     ]
    }
   ],
   "source": [
    "print_with_similar(df, title_ext_model, 0)"
   ]
  },
  {
   "cell_type": "code",
   "execution_count": null,
   "metadata": {},
   "outputs": [],
   "source": []
  }
 ],
 "metadata": {
  "kernelspec": {
   "display_name": "Python 3",
   "language": "python",
   "name": "python3"
  },
  "language_info": {
   "codemirror_mode": {
    "name": "ipython",
    "version": 3
   },
   "file_extension": ".py",
   "mimetype": "text/x-python",
   "name": "python",
   "nbconvert_exporter": "python",
   "pygments_lexer": "ipython3",
   "version": "3.7.4"
  }
 },
 "nbformat": 4,
 "nbformat_minor": 2
}
