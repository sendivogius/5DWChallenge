{
 "cells": [
  {
   "cell_type": "code",
   "execution_count": 1,
   "metadata": {
    "ExecuteTime": {
     "end_time": "2019-03-23T00:48:37.645782Z",
     "start_time": "2019-03-23T00:48:35.915817Z"
    }
   },
   "outputs": [],
   "source": [
    "import pandas as pd\n",
    "import numpy as np\n",
    "from sklearn.tree import DecisionTreeRegressor\n",
    "from sklearn.svm import SVR\n",
    "from sklearn.model_selection import cross_val_score"
   ]
  },
  {
   "cell_type": "code",
   "execution_count": 2,
   "metadata": {
    "ExecuteTime": {
     "end_time": "2019-03-23T00:48:51.909677Z",
     "start_time": "2019-03-23T00:48:37.650552Z"
    }
   },
   "outputs": [],
   "source": [
    "path = 'https://raw.githubusercontent.com/aczepielik/KRKtram/master/reports/report_07-26.csv'\n",
    "df = pd.read_csv(path)"
   ]
  },
  {
   "cell_type": "code",
   "execution_count": 3,
   "metadata": {
    "ExecuteTime": {
     "end_time": "2019-03-23T00:48:51.988999Z",
     "start_time": "2019-03-23T00:48:51.917464Z"
    }
   },
   "outputs": [],
   "source": [
    "df.time_stamp = pd.to_datetime(df.time_stamp)\n",
    "df.plannedTime = pd.to_datetime(df.plannedTime)\n",
    "df['delay_sec'] = df.delay * 60"
   ]
  },
  {
   "cell_type": "code",
   "execution_count": 4,
   "metadata": {
    "ExecuteTime": {
     "end_time": "2019-03-23T00:48:52.006537Z",
     "start_time": "2019-03-23T00:48:51.992111Z"
    }
   },
   "outputs": [],
   "source": [
    "df['direction_cat'] = df.direction.factorize()[0]"
   ]
  },
  {
   "cell_type": "code",
   "execution_count": 5,
   "metadata": {
    "ExecuteTime": {
     "end_time": "2019-03-23T00:48:52.015810Z",
     "start_time": "2019-03-23T00:48:52.008828Z"
    }
   },
   "outputs": [],
   "source": [
    "df.vehicleId.fillna(-1, inplace=True)\n",
    "df.seq_num.fillna(-1, inplace=True)"
   ]
  },
  {
   "cell_type": "code",
   "execution_count": 6,
   "metadata": {
    "ExecuteTime": {
     "end_time": "2019-03-23T00:48:52.063753Z",
     "start_time": "2019-03-23T00:48:52.019654Z"
    }
   },
   "outputs": [],
   "source": [
    "feats = ['number', 'direction_cat', 'vehicleId', 'stop', 'seq_num']\n",
    "X = df[feats]\n",
    "y = df.delay_sec"
   ]
  },
  {
   "cell_type": "code",
   "execution_count": 7,
   "metadata": {
    "ExecuteTime": {
     "end_time": "2019-03-23T00:50:50.756302Z",
     "start_time": "2019-03-23T00:50:50.404191Z"
    }
   },
   "outputs": [
    {
     "data": {
      "text/plain": [
       "(-46.42687328942413, 3.16439236058503)"
      ]
     },
     "execution_count": 7,
     "metadata": {},
     "output_type": "execute_result"
    }
   ],
   "source": [
    "model = DecisionTreeRegressor(max_depth=10)\n",
    "scores = cross_val_score(model, X, y, cv=5, scoring='neg_mean_absolute_error')\n",
    "np.mean(scores), np.std(scores)"
   ]
  },
  {
   "cell_type": "code",
   "execution_count": null,
   "metadata": {
    "ExecuteTime": {
     "start_time": "2019-03-23T00:50:53.181Z"
    }
   },
   "outputs": [],
   "source": [
    "model = SVR(gamma='scale')\n",
    "scores = cross_val_score(model, X, y, cv=5, scoring='neg_mean_absolute_error')\n",
    "np.mean(scores), np.std(scores)"
   ]
  }
 ],
 "metadata": {
  "kernelspec": {
   "display_name": "Python 3",
   "language": "python",
   "name": "python3"
  },
  "language_info": {
   "codemirror_mode": {
    "name": "ipython",
    "version": 3
   },
   "file_extension": ".py",
   "mimetype": "text/x-python",
   "name": "python",
   "nbconvert_exporter": "python",
   "pygments_lexer": "ipython3",
   "version": "3.7.1"
  },
  "varInspector": {
   "cols": {
    "lenName": 16,
    "lenType": 16,
    "lenVar": 40
   },
   "kernels_config": {
    "python": {
     "delete_cmd_postfix": "",
     "delete_cmd_prefix": "del ",
     "library": "var_list.py",
     "varRefreshCmd": "print(var_dic_list())"
    },
    "r": {
     "delete_cmd_postfix": ") ",
     "delete_cmd_prefix": "rm(",
     "library": "var_list.r",
     "varRefreshCmd": "cat(var_dic_list()) "
    }
   },
   "types_to_exclude": [
    "module",
    "function",
    "builtin_function_or_method",
    "instance",
    "_Feature"
   ],
   "window_display": false
  }
 },
 "nbformat": 4,
 "nbformat_minor": 2
}
